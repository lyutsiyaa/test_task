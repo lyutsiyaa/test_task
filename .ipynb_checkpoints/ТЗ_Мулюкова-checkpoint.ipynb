{
 "cells": [
  {
   "cell_type": "markdown",
   "id": "e03ff852",
   "metadata": {},
   "source": [
    "# Тестовое задание"
   ]
  },
  {
   "cell_type": "code",
   "execution_count": 1,
   "id": "7a6e9e1d",
   "metadata": {},
   "outputs": [],
   "source": [
    "import warnings\n",
    "warnings.filterwarnings('ignore')\n",
    "\n",
    "from IPython.core.interactiveshell import InteractiveShell\n",
    "InteractiveShell.ast_node_interactivity = \"all\""
   ]
  },
  {
   "cell_type": "code",
   "execution_count": 34,
   "id": "8621e588",
   "metadata": {},
   "outputs": [],
   "source": [
    "import pandas as pd\n",
    "from datetime import datetime\n",
    "custom_date_parser = lambda x: datetime.strptime(x, \"%Y-%m-%d\")\n",
    "import seaborn as sns\n",
    "import numpy as np\n",
    "import matplotlib.pyplot as plt\n",
    "import scipy.stats as stats\n",
    "\n",
    "from sklearn.preprocessing import LabelEncoder\n",
    "from sklearn.model_selection import train_test_split\n",
    "from sklearn.linear_model import Lasso, Ridge\n",
    "from sklearn.preprocessing import StandardScaler\n",
    "from sklearn.linear_model import LogisticRegression\n",
    "from sklearn.metrics import r2_score"
   ]
  },
  {
   "cell_type": "markdown",
   "id": "0b8a3ad2",
   "metadata": {},
   "source": [
    "Перед тем как импортировать файл, необходимо бвло перевести его в кодировку UTF-8."
   ]
  },
  {
   "cell_type": "code",
   "execution_count": 3,
   "id": "12bbed82",
   "metadata": {},
   "outputs": [],
   "source": [
    "df=pd.read_csv('summer_camp_data.xls.csv', parse_dates=['date'], date_parser=custom_date_parser, encoding='cp1251')"
   ]
  },
  {
   "cell_type": "code",
   "execution_count": 4,
   "id": "c63d9628",
   "metadata": {},
   "outputs": [
    {
     "data": {
      "text/html": [
       "<div>\n",
       "<style scoped>\n",
       "    .dataframe tbody tr th:only-of-type {\n",
       "        vertical-align: middle;\n",
       "    }\n",
       "\n",
       "    .dataframe tbody tr th {\n",
       "        vertical-align: top;\n",
       "    }\n",
       "\n",
       "    .dataframe thead th {\n",
       "        text-align: right;\n",
       "    }\n",
       "</style>\n",
       "<table border=\"1\" class=\"dataframe\">\n",
       "  <thead>\n",
       "    <tr style=\"text-align: right;\">\n",
       "      <th></th>\n",
       "      <th>date</th>\n",
       "      <th>source</th>\n",
       "      <th>medium</th>\n",
       "      <th>delivery_available</th>\n",
       "      <th>device_type</th>\n",
       "      <th>promo_activated</th>\n",
       "      <th>filter_used</th>\n",
       "      <th>pageviews</th>\n",
       "      <th>visits</th>\n",
       "      <th>productClick</th>\n",
       "      <th>addToCart</th>\n",
       "      <th>checkout</th>\n",
       "      <th>transactions</th>\n",
       "      <th>revenue</th>\n",
       "    </tr>\n",
       "  </thead>\n",
       "  <tbody>\n",
       "    <tr>\n",
       "      <th>0</th>\n",
       "      <td>2020-05-11</td>\n",
       "      <td>google</td>\n",
       "      <td>organic</td>\n",
       "      <td>Не определено</td>\n",
       "      <td>Десктоп</td>\n",
       "      <td>no</td>\n",
       "      <td>no</td>\n",
       "      <td>3120</td>\n",
       "      <td>1233</td>\n",
       "      <td>5240</td>\n",
       "      <td>1048</td>\n",
       "      <td>525</td>\n",
       "      <td>90</td>\n",
       "      <td>86649.0</td>\n",
       "    </tr>\n",
       "    <tr>\n",
       "      <th>1</th>\n",
       "      <td>2020-05-11</td>\n",
       "      <td>yandex</td>\n",
       "      <td>cpc</td>\n",
       "      <td>Не определено</td>\n",
       "      <td>Мобайл</td>\n",
       "      <td>yes</td>\n",
       "      <td>no</td>\n",
       "      <td>3302</td>\n",
       "      <td>544</td>\n",
       "      <td>9930</td>\n",
       "      <td>1984</td>\n",
       "      <td>1416</td>\n",
       "      <td>217</td>\n",
       "      <td>244478.0</td>\n",
       "    </tr>\n",
       "    <tr>\n",
       "      <th>2</th>\n",
       "      <td>2020-05-11</td>\n",
       "      <td>google</td>\n",
       "      <td>cpc</td>\n",
       "      <td>Не определено</td>\n",
       "      <td>Мобайл</td>\n",
       "      <td>no</td>\n",
       "      <td>no</td>\n",
       "      <td>2970</td>\n",
       "      <td>1450</td>\n",
       "      <td>5460</td>\n",
       "      <td>1090</td>\n",
       "      <td>599</td>\n",
       "      <td>100</td>\n",
       "      <td>105150.0</td>\n",
       "    </tr>\n",
       "    <tr>\n",
       "      <th>3</th>\n",
       "      <td>2020-05-11</td>\n",
       "      <td>google</td>\n",
       "      <td>cpc</td>\n",
       "      <td>Не определено</td>\n",
       "      <td>Десктоп</td>\n",
       "      <td>no</td>\n",
       "      <td>no</td>\n",
       "      <td>1875</td>\n",
       "      <td>854</td>\n",
       "      <td>4250</td>\n",
       "      <td>848</td>\n",
       "      <td>407</td>\n",
       "      <td>71</td>\n",
       "      <td>79003.0</td>\n",
       "    </tr>\n",
       "    <tr>\n",
       "      <th>4</th>\n",
       "      <td>2020-05-11</td>\n",
       "      <td>yandex</td>\n",
       "      <td>organic</td>\n",
       "      <td>Не определено</td>\n",
       "      <td>Десктоп</td>\n",
       "      <td>no</td>\n",
       "      <td>no</td>\n",
       "      <td>2159</td>\n",
       "      <td>1000</td>\n",
       "      <td>4110</td>\n",
       "      <td>824</td>\n",
       "      <td>351</td>\n",
       "      <td>62</td>\n",
       "      <td>61861.0</td>\n",
       "    </tr>\n",
       "  </tbody>\n",
       "</table>\n",
       "</div>"
      ],
      "text/plain": [
       "        date  source   medium delivery_available device_type promo_activated  \\\n",
       "0 2020-05-11  google  organic      Не определено     Десктоп              no   \n",
       "1 2020-05-11  yandex      cpc      Не определено      Мобайл             yes   \n",
       "2 2020-05-11  google      cpc      Не определено      Мобайл              no   \n",
       "3 2020-05-11  google      cpc      Не определено     Десктоп              no   \n",
       "4 2020-05-11  yandex  organic      Не определено     Десктоп              no   \n",
       "\n",
       "  filter_used  pageviews  visits  productClick  addToCart  checkout  \\\n",
       "0          no       3120    1233          5240       1048       525   \n",
       "1          no       3302     544          9930       1984      1416   \n",
       "2          no       2970    1450          5460       1090       599   \n",
       "3          no       1875     854          4250        848       407   \n",
       "4          no       2159    1000          4110        824       351   \n",
       "\n",
       "   transactions   revenue  \n",
       "0            90   86649.0  \n",
       "1           217  244478.0  \n",
       "2           100  105150.0  \n",
       "3            71   79003.0  \n",
       "4            62   61861.0  "
      ]
     },
     "execution_count": 4,
     "metadata": {},
     "output_type": "execute_result"
    }
   ],
   "source": [
    "df[:5]"
   ]
  },
  {
   "cell_type": "code",
   "execution_count": 5,
   "id": "46d96fc2",
   "metadata": {},
   "outputs": [
    {
     "name": "stdout",
     "output_type": "stream",
     "text": [
      "<class 'pandas.core.frame.DataFrame'>\n",
      "RangeIndex: 52724 entries, 0 to 52723\n",
      "Data columns (total 14 columns):\n",
      " #   Column              Non-Null Count  Dtype         \n",
      "---  ------              --------------  -----         \n",
      " 0   date                52724 non-null  datetime64[ns]\n",
      " 1   source              52724 non-null  object        \n",
      " 2   medium              52724 non-null  object        \n",
      " 3   delivery_available  52724 non-null  object        \n",
      " 4   device_type         52724 non-null  object        \n",
      " 5   promo_activated     52724 non-null  object        \n",
      " 6   filter_used         52724 non-null  object        \n",
      " 7   pageviews           52724 non-null  int64         \n",
      " 8   visits              52724 non-null  int64         \n",
      " 9   productClick        52724 non-null  int64         \n",
      " 10  addToCart           52724 non-null  int64         \n",
      " 11  checkout            52724 non-null  int64         \n",
      " 12  transactions        52724 non-null  int64         \n",
      " 13  revenue             52724 non-null  float64       \n",
      "dtypes: datetime64[ns](1), float64(1), int64(6), object(6)\n",
      "memory usage: 5.6+ MB\n"
     ]
    }
   ],
   "source": [
    "df.info()"
   ]
  },
  {
   "cell_type": "code",
   "execution_count": 6,
   "id": "8cc1fb68",
   "metadata": {},
   "outputs": [
    {
     "data": {
      "text/plain": [
       "date                  0\n",
       "source                0\n",
       "medium                0\n",
       "delivery_available    0\n",
       "device_type           0\n",
       "promo_activated       0\n",
       "filter_used           0\n",
       "pageviews             0\n",
       "visits                0\n",
       "productClick          0\n",
       "addToCart             0\n",
       "checkout              0\n",
       "transactions          0\n",
       "revenue               0\n",
       "dtype: int64"
      ]
     },
     "execution_count": 6,
     "metadata": {},
     "output_type": "execute_result"
    }
   ],
   "source": [
    "df.isna().sum()"
   ]
  },
  {
   "cell_type": "code",
   "execution_count": 7,
   "id": "29810240",
   "metadata": {},
   "outputs": [
    {
     "data": {
      "text/plain": [
       "Timestamp('2020-09-30 00:00:00')"
      ]
     },
     "execution_count": 7,
     "metadata": {},
     "output_type": "execute_result"
    },
    {
     "data": {
      "text/plain": [
       "Timestamp('2020-01-01 00:00:00')"
      ]
     },
     "execution_count": 7,
     "metadata": {},
     "output_type": "execute_result"
    }
   ],
   "source": [
    "df['date'].max()\n",
    "df['date'].min()"
   ]
  },
  {
   "cell_type": "code",
   "execution_count": 8,
   "id": "0357a5f8",
   "metadata": {},
   "outputs": [
    {
     "data": {
      "text/plain": [
       "<AxesSubplot:>"
      ]
     },
     "execution_count": 8,
     "metadata": {},
     "output_type": "execute_result"
    },
    {
     "data": {
      "image/png": "[encoded data removed]",
      "text/plain": [
       "<Figure size 720x288 with 1 Axes>"
      ]
     },
     "metadata": {
      "needs_background": "light"
     },
     "output_type": "display_data"
    }
   ],
   "source": [
    "df['date'].hist(figsize=(10, 4))"
   ]
  },
  {
   "cell_type": "markdown",
   "id": "502017a3",
   "metadata": {},
   "source": [
    "Посмотрели, что есть данные по всем датам, которые нам даны."
   ]
  },
  {
   "cell_type": "markdown",
   "id": "40d85301",
   "metadata": {},
   "source": [
    "## Какой рекламный канал принёс больше всего дохода за всё время?"
   ]
  },
  {
   "cell_type": "code",
   "execution_count": 9,
   "id": "8e6dd235",
   "metadata": {},
   "outputs": [],
   "source": [
    "revenue=df.groupby('source')['revenue'].sum().reset_index()"
   ]
  },
  {
   "cell_type": "code",
   "execution_count": 10,
   "id": "33f33fff",
   "metadata": {},
   "outputs": [],
   "source": [
    "revenue=revenue.sort_values(by='revenue', ascending=False)"
   ]
  },
  {
   "cell_type": "code",
   "execution_count": 11,
   "id": "a496f74d",
   "metadata": {},
   "outputs": [],
   "source": [
    "revenue['revenue'] = ([format(x, '.2f') for x in revenue['revenue']])"
   ]
  },
  {
   "cell_type": "code",
   "execution_count": 12,
   "id": "36bcfb6b",
   "metadata": {},
   "outputs": [
    {
     "data": {
      "text/html": [
       "<div>\n",
       "<style scoped>\n",
       "    .dataframe tbody tr th:only-of-type {\n",
       "        vertical-align: middle;\n",
       "    }\n",
       "\n",
       "    .dataframe tbody tr th {\n",
       "        vertical-align: top;\n",
       "    }\n",
       "\n",
       "    .dataframe thead th {\n",
       "        text-align: right;\n",
       "    }\n",
       "</style>\n",
       "<table border=\"1\" class=\"dataframe\">\n",
       "  <thead>\n",
       "    <tr style=\"text-align: right;\">\n",
       "      <th></th>\n",
       "      <th>source</th>\n",
       "      <th>revenue</th>\n",
       "    </tr>\n",
       "  </thead>\n",
       "  <tbody>\n",
       "    <tr>\n",
       "      <th>21</th>\n",
       "      <td>yandex</td>\n",
       "      <td>467474813.00</td>\n",
       "    </tr>\n",
       "    <tr>\n",
       "      <th>12</th>\n",
       "      <td>google</td>\n",
       "      <td>456517017.00</td>\n",
       "    </tr>\n",
       "    <tr>\n",
       "      <th>0</th>\n",
       "      <td>(direct)</td>\n",
       "      <td>238447371.25</td>\n",
       "    </tr>\n",
       "  </tbody>\n",
       "</table>\n",
       "</div>"
      ],
      "text/plain": [
       "      source       revenue\n",
       "21    yandex  467474813.00\n",
       "12    google  456517017.00\n",
       "0   (direct)  238447371.25"
      ]
     },
     "execution_count": 12,
     "metadata": {},
     "output_type": "execute_result"
    }
   ],
   "source": [
    "revenue[:3]"
   ]
  },
  {
   "cell_type": "markdown",
   "id": "f020f129",
   "metadata": {},
   "source": [
    "Больший доход принес рекламный канал от яндекса **467474813.00**"
   ]
  },
  {
   "cell_type": "markdown",
   "id": "dd0b1721",
   "metadata": {},
   "source": [
    "## Как изменился средний чек транзакции после введения коронавирусных ограничений? Как он изменился для пользователей, покупающих с промокодом и без? (параметр «promo_activated»)"
   ]
  },
  {
   "cell_type": "markdown",
   "id": "429ddd17",
   "metadata": {},
   "source": [
    "С 29 марта 2020 года, были введены коронавирусные ограничения которые распространялись на всех жителей Москвы.\n",
    "Для того, чтобы найти как изменился средний чек транзакции, разделим доход на транзакции и найдем среднее значение."
   ]
  },
  {
   "cell_type": "code",
   "execution_count": 13,
   "id": "e02747b6",
   "metadata": {},
   "outputs": [],
   "source": [
    "before_covid=df.query(\"date<'2020-03-29'\")\n",
    "after_covid=df.query(\"date>='2020-03-29'\")"
   ]
  },
  {
   "cell_type": "code",
   "execution_count": 14,
   "id": "052cb966",
   "metadata": {},
   "outputs": [
    {
     "name": "stdout",
     "output_type": "stream",
     "text": [
      "Средний чек до ограничений: 1289.01\n",
      "Средний чек после ограничений: 1188.62\n",
      "100.3900000000001\n"
     ]
    },
    {
     "data": {
      "image/png": "[encoded data removed]",
      "text/plain": [
       "<Figure size 432x288 with 2 Axes>"
      ]
     },
     "metadata": {
      "needs_background": "light"
     },
     "output_type": "display_data"
    }
   ],
   "source": [
    "def avg_check(df1, df2, setting1, setting2):\n",
    "    df1['mean']=df1['revenue']/df1['transactions']\n",
    "    print(setting1, round(df1['mean'].mean(),2))\n",
    "\n",
    "    df2['mean']=df2['revenue']/df2['transactions']\n",
    "    print(setting2, round(df2['mean'].mean(),2))\n",
    "    print(round(df1['mean'].mean(),2)-round(df2['mean'].mean(),2))\n",
    "    fig, ax = plt.subplots();\n",
    "    sns.histplot(df1['mean'], ax=ax, color='g', alpha=0.5, binrange=(0,6000));\n",
    "    ax2 = ax.twinx();\n",
    "    sns.histplot(df2['mean'], ax=ax2, color='b', alpha=0.5, binrange=(0,6000));\n",
    "    plt.show();\n",
    "    \n",
    "avg_check(before_covid, after_covid, 'Средний чек до ограничений:', 'Средний чек после ограничений:')"
   ]
  },
  {
   "cell_type": "code",
   "execution_count": 15,
   "id": "e1c952c3",
   "metadata": {},
   "outputs": [],
   "source": [
    "with_promo=df.query(\"promo_activated=='yes'\")\n",
    "without_promo=df.query(\"promo_activated=='no'\")"
   ]
  },
  {
   "cell_type": "code",
   "execution_count": 16,
   "id": "8955db73",
   "metadata": {},
   "outputs": [
    {
     "name": "stdout",
     "output_type": "stream",
     "text": [
      "Средний чек с промокодом: 1224.53\n",
      "Средний чек без промокода: 1214.41\n",
      "10.11999999999989\n"
     ]
    },
    {
     "data": {
      "image/png": "[encoded data removed]",
      "text/plain": [
       "<Figure size 432x288 with 2 Axes>"
      ]
     },
     "metadata": {
      "needs_background": "light"
     },
     "output_type": "display_data"
    }
   ],
   "source": [
    "avg_check(with_promo, without_promo, 'Средний чек с промокодом:', 'Средний чек без промокода:')"
   ]
  },
  {
   "cell_type": "markdown",
   "id": "f7dff8ac",
   "metadata": {},
   "source": [
    "Средний чек в случае с введенными коронавирусными ограничениями уменьшился на 100.39.\n",
    "- До ограничений чек равен **1289.01**;\n",
    "- После ограничений чек равен **1188.62**.\n",
    "\n",
    "Средний чек с использованием промокода выше на 10.12\n",
    "- Средний чек с промокодом равен **1224.53**;\n",
    "- Средний чек без промокода равен **1214.41**."
   ]
  },
  {
   "cell_type": "markdown",
   "id": "da67e35e",
   "metadata": {},
   "source": [
    "## Можно ли с уверенностью в 95% сказать, что CR (коэффициент конверсии в транзакцию) в выходные дни отличается от CR в будние дни?"
   ]
  },
  {
   "cell_type": "markdown",
   "id": "4be3b259",
   "metadata": {},
   "source": [
    "Для того, чтобы проверить, что CR в выходные дни отличается от CR в будние дни, надо сформулировать нулевую и альтернативную гипотезы. \n",
    "\n",
    "*H0 - Коэффициент конверсии в транзакцию равны в выходные и будние дни;*\n",
    "\n",
    "*H1 - Коэффициент конверсии в транзакцию отличаются в выходные и будние дни.*\n",
    "\n",
    "Для проверки гипотез необходимо выбрать статистический тест, с помощью которого мы их проверим. "
   ]
  },
  {
   "cell_type": "code",
   "execution_count": 17,
   "id": "505a721c",
   "metadata": {},
   "outputs": [],
   "source": [
    "df['day']=df['date'].dt.dayofweek #отдельно добавим дни недели, чтобы выбрать выходные дни"
   ]
  },
  {
   "cell_type": "code",
   "execution_count": 18,
   "id": "570ed2bc",
   "metadata": {},
   "outputs": [],
   "source": [
    "df_weekend=df.query('day==(5, 6)') \n",
    "df_working=df.query('day==(0, 1, 2, 3, 4)')"
   ]
  },
  {
   "cell_type": "code",
   "execution_count": 19,
   "id": "7ff1a7a5",
   "metadata": {},
   "outputs": [],
   "source": [
    "def cr(df1):\n",
    "    df1['cr']=df1['transactions']/df1['visits'] #посчитаем конверсию для двух выборок\n",
    "cr(df_weekend)\n",
    "cr(df_working)"
   ]
  },
  {
   "cell_type": "code",
   "execution_count": 20,
   "id": "84854235",
   "metadata": {},
   "outputs": [],
   "source": [
    "df_weekend=df_weekend['cr']\n",
    "df_working=df_working['cr']"
   ]
  },
  {
   "cell_type": "code",
   "execution_count": 21,
   "id": "e6cbbd2f",
   "metadata": {},
   "outputs": [
    {
     "data": {
      "image/png": "[encoded data removed]",
      "text/plain": [
       "<Figure size 432x288 with 1 Axes>"
      ]
     },
     "metadata": {
      "needs_background": "light"
     },
     "output_type": "display_data"
    }
   ],
   "source": [
    "sns.histplot(np.log10(df_weekend), color='r');\n",
    "sns.histplot(np.log10(df_working), color='b', alpha=.4);"
   ]
  },
  {
   "cell_type": "markdown",
   "id": "cb8de7aa",
   "metadata": {},
   "source": [
    "Выборки имеют одинаковое распределение отличное от нормального, поэтому можно использовать тест Манна-Уитни для оценки различий между двумя выборками.\n",
    "\n",
    "Возьмем уровень значимости равный alpha = 0.05."
   ]
  },
  {
   "cell_type": "code",
   "execution_count": 22,
   "id": "f3064f67",
   "metadata": {},
   "outputs": [
    {
     "name": "stdout",
     "output_type": "stream",
     "text": [
      "Отвергаем нулевую гипотезу 5.3434106585064526e-14\n"
     ]
    }
   ],
   "source": [
    "alpha=.05\n",
    "res=stats.mannwhitneyu(df_weekend, df_working)\n",
    "if res.pvalue<alpha:\n",
    "    print('Отвергаем нулевую гипотезу', res.pvalue)\n",
    "else:\n",
    "    print('Не можем отклонить нулевую гипотезу', res.pvalue)"
   ]
  },
  {
   "cell_type": "markdown",
   "id": "0ddb420a",
   "metadata": {},
   "source": [
    "Мы получили уровень значимости намного ниже 0.05, следовательно мы можем предположить, что коэффициенты конверсии в транзакцию отличаются."
   ]
  },
  {
   "cell_type": "markdown",
   "id": "0834c6dc",
   "metadata": {},
   "source": [
    "## Вам необходимо спрогнозировать объем дохода, полученного с пользователей, приведенных на сайт контекстной рекламой (medium = cpc) на полгода вперед. "
   ]
  },
  {
   "cell_type": "code",
   "execution_count": 23,
   "id": "ef2c27d0",
   "metadata": {},
   "outputs": [],
   "source": [
    "cpc=df.query('medium==\"cpc\"')"
   ]
  },
  {
   "cell_type": "code",
   "execution_count": 24,
   "id": "368f88bd",
   "metadata": {},
   "outputs": [],
   "source": [
    "cpc['month']=cpc['date'].dt.month"
   ]
  },
  {
   "cell_type": "code",
   "execution_count": 25,
   "id": "64aad0da",
   "metadata": {},
   "outputs": [],
   "source": [
    "cpc.drop(['day', 'date', 'source', 'medium', 'delivery_available','device_type'], axis=1, inplace=True)"
   ]
  },
  {
   "cell_type": "code",
   "execution_count": 26,
   "id": "faec5390",
   "metadata": {},
   "outputs": [
    {
     "name": "stdout",
     "output_type": "stream",
     "text": [
      "  promo_activated filter_used\n",
      "1             yes          no\n",
      "2              no          no\n",
      "3              no          no\n",
      "5              no          no\n",
      "7              no          no\n",
      "   promo_activated  filter_used\n",
      "1                1            0\n",
      "2                0            0\n",
      "3                0            0\n",
      "5                0            0\n",
      "7                0            0\n"
     ]
    }
   ],
   "source": [
    "# используем кодировщик, чтобы \"перевести\" строковые названия в числа\n",
    "print(cpc[['promo_activated', 'filter_used']].head())\n",
    "encoder =  LabelEncoder()\n",
    "\n",
    "cpc['promo_activated'] = encoder.fit_transform(cpc['promo_activated']) \n",
    "cpc['filter_used'] = encoder.fit_transform(cpc['filter_used'])\n",
    "\n",
    "print(cpc[['promo_activated', 'filter_used']].head())"
   ]
  },
  {
   "cell_type": "code",
   "execution_count": 27,
   "id": "333a1ec7",
   "metadata": {},
   "outputs": [],
   "source": [
    "corr=cpc.corr()"
   ]
  },
  {
   "cell_type": "code",
   "execution_count": 28,
   "id": "84c3d313",
   "metadata": {},
   "outputs": [
    {
     "data": {
      "image/png": "[encoded data removed]",
      "text/plain": [
       "<Figure size 720x720 with 2 Axes>"
      ]
     },
     "metadata": {
      "needs_background": "light"
     },
     "output_type": "display_data"
    }
   ],
   "source": [
    "plt.figure(figsize=(10, 10));\n",
    "sns.heatmap(corr, annot=True);"
   ]
  },
  {
   "cell_type": "code",
   "execution_count": 29,
   "id": "ecd85440",
   "metadata": {},
   "outputs": [],
   "source": [
    "#разделили данные на признаки и целевую переменную\n",
    "X=cpc.drop('revenue', axis=1)\n",
    "y=cpc['revenue']\n",
    "#разделили модель на обучающую и валидационную выборку\n",
    "X_train, X_test, y_train, y_test = train_test_split(X, y, test_size=0.2, random_state=42)"
   ]
  },
  {
   "cell_type": "code",
   "execution_count": 30,
   "id": "32228f3a",
   "metadata": {},
   "outputs": [],
   "source": [
    "#создали объект класса StandardScaler и применили его к обучающей выборке\n",
    "scaler = StandardScaler()\n",
    "#обучаем scaler и одновременно трансформируем матрицу для обучающей выборки\n",
    "X_train_st = scaler.fit_transform(X_train)  \n",
    "#стандартизируем\n",
    "X_test_st = scaler.transform(X_test)"
   ]
  },
  {
   "cell_type": "code",
   "execution_count": 31,
   "id": "7236238b",
   "metadata": {},
   "outputs": [
    {
     "data": {
      "text/plain": [
       "LogisticRegression(random_state=42)"
      ]
     },
     "execution_count": 31,
     "metadata": {},
     "output_type": "execute_result"
    }
   ],
   "source": [
    "#обучили модель\n",
    "model=LogisticRegression(random_state=42)\n",
    "model.fit(X_train, y_train)\n",
    "#сделали прогнозы\n",
    "predict=model.predict(X_test)"
   ]
  },
  {
   "cell_type": "code",
   "execution_count": 32,
   "id": "131a6aff",
   "metadata": {},
   "outputs": [
    {
     "data": {
      "text/plain": [
       "Ridge(random_state=42)"
      ]
     },
     "execution_count": 32,
     "metadata": {},
     "output_type": "execute_result"
    }
   ],
   "source": [
    "#обучили модель\n",
    "model_ridge=Ridge(random_state=42)\n",
    "model_ridge.fit(X_train, y_train)\n",
    "#сделали прогнозы\n",
    "predict_ridge=model_ridge.predict(X_test)"
   ]
  },
  {
   "cell_type": "code",
   "execution_count": 35,
   "id": "0c890526",
   "metadata": {},
   "outputs": [
    {
     "name": "stdout",
     "output_type": "stream",
     "text": [
      "R2 для модели линейной регрессии -5.919875658184905\n",
      "R2 для модели ридж-регрессии 0.9542904812574625\n"
     ]
    }
   ],
   "source": [
    "print('R2 для модели линейной регрессии',r2_score(y_test, predict))\n",
    "print('R2 для модели ридж-регрессии', r2_score(y_test, predict_ridge))"
   ]
  },
  {
   "cell_type": "markdown",
   "id": "facb5f00",
   "metadata": {},
   "source": [
    "Для прогнозирования объема дохода лучше использовать ридж-регрессию."
   ]
  }
 ],
 "metadata": {
  "kernelspec": {
   "display_name": "Python 3",
   "language": "python",
   "name": "python3"
  },
  "language_info": {
   "codemirror_mode": {
    "name": "ipython",
    "version": 3
   },
   "file_extension": ".py",
   "mimetype": "text/x-python",
   "name": "python",
   "nbconvert_exporter": "python",
   "pygments_lexer": "ipython3",
   "version": "3.8.8"
  },
  "toc": {
   "base_numbering": 1,
   "nav_menu": {},
   "number_sections": true,
   "sideBar": true,
   "skip_h1_title": false,
   "title_cell": "Table of Contents",
   "title_sidebar": "Contents",
   "toc_cell": false,
   "toc_position": {},
   "toc_section_display": true,
   "toc_window_display": false
  }
 },
 "nbformat": 4,
 "nbformat_minor": 5
}
